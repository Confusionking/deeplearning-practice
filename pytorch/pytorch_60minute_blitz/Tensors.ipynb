{
 "cells": [
  {
   "cell_type": "markdown",
   "id": "ad83b6b0",
   "metadata": {},
   "source": [
    "# Intro to Pytorch Tensors"
   ]
  },
  {
   "cell_type": "markdown",
   "id": "56156211",
   "metadata": {},
   "source": [
    "#### Tensors are similar to NumPy’s ndarrays, except that tensors can run on GPUs or other specialized hardware to accelerate computing."
   ]
  },
  {
   "cell_type": "code",
   "execution_count": 1,
   "id": "d9f7ded9",
   "metadata": {},
   "outputs": [],
   "source": [
    "import torch\n",
    "import numpy as np"
   ]
  },
  {
   "cell_type": "markdown",
   "id": "53a15d7a",
   "metadata": {},
   "source": [
    "## Initialize Tensors"
   ]
  },
  {
   "cell_type": "markdown",
   "id": "2e39e7e2",
   "metadata": {},
   "source": [
    "### There are multiple ways of initlizing Tensors\n",
    "- Directly from the data\n",
    "- from Numpy array\n",
    "- from Another Tensor\n",
    "- using inbuilt methods"
   ]
  },
  {
   "cell_type": "code",
   "execution_count": 2,
   "id": "e429a679",
   "metadata": {},
   "outputs": [
    {
     "name": "stdout",
     "output_type": "stream",
     "text": [
      "[[1, 2, 3], [4, 5, 6]]\n",
      "tensor([[1, 2, 3],\n",
      "        [4, 5, 6]])\n"
     ]
    }
   ],
   "source": [
    "# Directly from the data\n",
    "data = [[1,2,3], [4,5,6]]\n",
    "tensor_data = torch.tensor(data)\n",
    "\n",
    "print(data)\n",
    "print(tensor_data)"
   ]
  },
  {
   "cell_type": "code",
   "execution_count": 7,
   "id": "5f74f308",
   "metadata": {},
   "outputs": [
    {
     "name": "stdout",
     "output_type": "stream",
     "text": [
      "[[1 2 3]\n",
      " [4 5 6]]\n",
      "tensor([[1, 2, 3],\n",
      "        [4, 5, 6]], dtype=torch.int32)\n"
     ]
    }
   ],
   "source": [
    "# from a Numpy array\n",
    "np_data = np.array(data)\n",
    "print(np_data)\n",
    "\n",
    "tensor_data = torch.from_numpy(np_data)\n",
    "print(tensor_data)"
   ]
  },
  {
   "cell_type": "code",
   "execution_count": 8,
   "id": "6bb6aac1",
   "metadata": {},
   "outputs": [
    {
     "name": "stdout",
     "output_type": "stream",
     "text": [
      "tensor([[1, 1, 1],\n",
      "        [1, 1, 1]], dtype=torch.int32)\n"
     ]
    }
   ],
   "source": [
    "# from another Tensor\n",
    "\n",
    "tensor_ones = torch.ones_like(tensor_data)\n",
    "print(tensor_ones)"
   ]
  },
  {
   "cell_type": "code",
   "execution_count": 10,
   "id": "7401bce8",
   "metadata": {},
   "outputs": [
    {
     "name": "stdout",
     "output_type": "stream",
     "text": [
      "tensor([[0., 0., 0.],\n",
      "        [0., 0., 0.]])\n",
      "tensor([[0.7790, 0.9629, 0.1711],\n",
      "        [0.9186, 0.9896, 0.6632]])\n",
      "tensor([[1., 1., 1.],\n",
      "        [1., 1., 1.]])\n"
     ]
    }
   ],
   "source": [
    "# with inbuilt methods\n",
    "shape = (2, 3)\n",
    "\n",
    "t_z = torch.zeros(shape)\n",
    "print(t_z)\n",
    "\n",
    "t_r = torch.rand(shape)\n",
    "print(t_r)\n",
    "\n",
    "t_o = torch.ones(shape)\n",
    "print(t_o)"
   ]
  },
  {
   "cell_type": "markdown",
   "id": "c92734d2",
   "metadata": {},
   "source": [
    "### Tensor Attributes"
   ]
  },
  {
   "cell_type": "code",
   "execution_count": 11,
   "id": "68125f48",
   "metadata": {},
   "outputs": [
    {
     "name": "stdout",
     "output_type": "stream",
     "text": [
      "shape  :  torch.Size([2, 3])\n",
      "dtype  :  torch.int32\n",
      "device :  cpu\n"
     ]
    }
   ],
   "source": [
    "print(\"shape  : \", tensor_data.shape)\n",
    "print(\"dtype  : \", tensor_data.dtype)\n",
    "print(\"device : \", tensor_data.device)"
   ]
  },
  {
   "cell_type": "code",
   "execution_count": 12,
   "id": "f2389b8f",
   "metadata": {
    "scrolled": true
   },
   "outputs": [
    {
     "data": {
      "text/plain": [
       "True"
      ]
     },
     "execution_count": 12,
     "metadata": {},
     "output_type": "execute_result"
    }
   ],
   "source": [
    "torch.cuda.is_available()"
   ]
  },
  {
   "cell_type": "markdown",
   "id": "99826b87",
   "metadata": {},
   "source": [
    "## Tensor Operations"
   ]
  },
  {
   "cell_type": "markdown",
   "id": "aba55827",
   "metadata": {},
   "source": [
    "### basic operations"
   ]
  },
  {
   "cell_type": "code",
   "execution_count": 14,
   "id": "7dd4fbd7",
   "metadata": {},
   "outputs": [
    {
     "name": "stdout",
     "output_type": "stream",
     "text": [
      "cuda:0\n",
      "cuda:0\n"
     ]
    }
   ],
   "source": [
    "#Allocate memory for tensor_data on cuda\n",
    "print(tensor_data.device)\n",
    "tensor_data = tensor_data.to('cuda')\n",
    "print(tensor_data.device)\n"
   ]
  },
  {
   "cell_type": "code",
   "execution_count": 15,
   "id": "8e8b01ed",
   "metadata": {},
   "outputs": [
    {
     "name": "stdout",
     "output_type": "stream",
     "text": [
      "tensor([[1., 0., 1., 1.],\n",
      "        [1., 0., 1., 1.],\n",
      "        [1., 0., 1., 1.],\n",
      "        [1., 0., 1., 1.]])\n"
     ]
    }
   ],
   "source": [
    "tensor = torch.ones(4,4)\n",
    "\n",
    "# indexing and slicing\n",
    "tensor[:,1] = 0\n",
    "print(tensor)"
   ]
  },
  {
   "cell_type": "code",
   "execution_count": 16,
   "id": "1186dd49",
   "metadata": {},
   "outputs": [
    {
     "data": {
      "text/plain": [
       "tensor([[1., 0., 1., 1., 1., 0., 1., 1., 1., 0., 1., 1.],\n",
       "        [1., 0., 1., 1., 1., 0., 1., 1., 1., 0., 1., 1.],\n",
       "        [1., 0., 1., 1., 1., 0., 1., 1., 1., 0., 1., 1.],\n",
       "        [1., 0., 1., 1., 1., 0., 1., 1., 1., 0., 1., 1.]])"
      ]
     },
     "execution_count": 16,
     "metadata": {},
     "output_type": "execute_result"
    }
   ],
   "source": [
    "# concatenate\n",
    "torch.cat([tensor, tensor, tensor], dim=1)"
   ]
  },
  {
   "cell_type": "code",
   "execution_count": 17,
   "id": "4b4ceec8",
   "metadata": {},
   "outputs": [
    {
     "data": {
      "text/plain": [
       "tensor([[1., 0., 1., 1.],\n",
       "        [1., 0., 1., 1.],\n",
       "        [1., 0., 1., 1.],\n",
       "        [1., 0., 1., 1.],\n",
       "        [1., 0., 1., 1.],\n",
       "        [1., 0., 1., 1.],\n",
       "        [1., 0., 1., 1.],\n",
       "        [1., 0., 1., 1.],\n",
       "        [1., 0., 1., 1.],\n",
       "        [1., 0., 1., 1.],\n",
       "        [1., 0., 1., 1.],\n",
       "        [1., 0., 1., 1.]])"
      ]
     },
     "execution_count": 17,
     "metadata": {},
     "output_type": "execute_result"
    }
   ],
   "source": [
    "# concatenate\n",
    "torch.cat([tensor, tensor, tensor], dim=0)"
   ]
  },
  {
   "cell_type": "code",
   "execution_count": 19,
   "id": "e14ae591",
   "metadata": {},
   "outputs": [
    {
     "name": "stdout",
     "output_type": "stream",
     "text": [
      "tensor([[1., 0., 1., 1.],\n",
      "        [1., 0., 1., 1.],\n",
      "        [1., 0., 1., 1.],\n",
      "        [1., 0., 1., 1.]])\n",
      "tensor([[1., 0., 1., 1.],\n",
      "        [1., 0., 1., 1.],\n",
      "        [1., 0., 1., 1.],\n",
      "        [1., 0., 1., 1.]])\n"
     ]
    }
   ],
   "source": [
    "#element-wise product\n",
    "\n",
    "#using mul\n",
    "print(tensor.mul(tensor))\n",
    "\n",
    "# using *\n",
    "print(tensor * tensor)"
   ]
  },
  {
   "cell_type": "code",
   "execution_count": 20,
   "id": "8aeca1d8",
   "metadata": {
    "scrolled": true
   },
   "outputs": [
    {
     "name": "stdout",
     "output_type": "stream",
     "text": [
      "tensor([[3., 0., 3., 3.],\n",
      "        [3., 0., 3., 3.],\n",
      "        [3., 0., 3., 3.],\n",
      "        [3., 0., 3., 3.]])\n",
      "tensor([[3., 0., 3., 3.],\n",
      "        [3., 0., 3., 3.],\n",
      "        [3., 0., 3., 3.],\n",
      "        [3., 0., 3., 3.]])\n"
     ]
    }
   ],
   "source": [
    "# matrix multiplication\n",
    "\n",
    "#using mul\n",
    "print(tensor.matmul(tensor))\n",
    "\n",
    "# using *\n",
    "print(tensor @ tensor)"
   ]
  },
  {
   "cell_type": "markdown",
   "id": "02703580",
   "metadata": {},
   "source": [
    "### Inplace operations"
   ]
  },
  {
   "cell_type": "markdown",
   "id": "5cf0c661",
   "metadata": {},
   "source": [
    "inplace operations will have a a default suffix of '_'"
   ]
  },
  {
   "cell_type": "code",
   "execution_count": 22,
   "id": "f827de0b",
   "metadata": {},
   "outputs": [
    {
     "name": "stdout",
     "output_type": "stream",
     "text": [
      "tensor([[1., 0., 1., 1.],\n",
      "        [1., 0., 1., 1.],\n",
      "        [1., 0., 1., 1.],\n",
      "        [1., 0., 1., 1.]])\n",
      "tensor([[7., 6., 7., 7.],\n",
      "        [7., 6., 7., 7.],\n",
      "        [7., 6., 7., 7.],\n",
      "        [7., 6., 7., 7.]])\n"
     ]
    }
   ],
   "source": [
    "print(tensor)\n",
    "tensor.add_(6)\n",
    "print(tensor)"
   ]
  },
  {
   "cell_type": "code",
   "execution_count": 25,
   "id": "95bf9a67",
   "metadata": {
    "scrolled": true
   },
   "outputs": [
    {
     "name": "stdout",
     "output_type": "stream",
     "text": [
      "tensor([[7., 6., 7., 7.],\n",
      "        [7., 6., 7., 7.],\n",
      "        [7., 6., 7., 7.],\n",
      "        [7., 6., 7., 7.]])\n"
     ]
    },
    {
     "data": {
      "text/plain": [
       "tensor([6., 6., 6., 6.])"
      ]
     },
     "execution_count": 25,
     "metadata": {},
     "output_type": "execute_result"
    }
   ],
   "source": [
    "print(tensor)\n",
    "tensor.amin(dim=1)\n"
   ]
  },
  {
   "cell_type": "code",
   "execution_count": 27,
   "id": "79a0d6e1",
   "metadata": {},
   "outputs": [
    {
     "name": "stdout",
     "output_type": "stream",
     "text": [
      "tensor([[7., 6., 7., 7.],\n",
      "        [7., 6., 7., 7.],\n",
      "        [7., 6., 7., 7.],\n",
      "        [7., 6., 7., 7.]])\n"
     ]
    },
    {
     "data": {
      "text/plain": [
       "tensor([[6.],\n",
       "        [6.],\n",
       "        [6.],\n",
       "        [6.]])"
      ]
     },
     "execution_count": 27,
     "metadata": {},
     "output_type": "execute_result"
    }
   ],
   "source": [
    "print(tensor)\n",
    "tensor.amin(dim=1, keepdim=True)"
   ]
  },
  {
   "cell_type": "code",
   "execution_count": 26,
   "id": "97982342",
   "metadata": {},
   "outputs": [
    {
     "name": "stdout",
     "output_type": "stream",
     "text": [
      "tensor([[7., 6., 7., 7.],\n",
      "        [7., 6., 7., 7.],\n",
      "        [7., 6., 7., 7.],\n",
      "        [7., 6., 7., 7.]])\n"
     ]
    },
    {
     "data": {
      "text/plain": [
       "tensor([7., 6., 7., 7.])"
      ]
     },
     "execution_count": 26,
     "metadata": {},
     "output_type": "execute_result"
    }
   ],
   "source": [
    "print(tensor)\n",
    "tensor.amin(dim=0)"
   ]
  },
  {
   "cell_type": "code",
   "execution_count": null,
   "id": "02c8b256",
   "metadata": {},
   "outputs": [],
   "source": []
  }
 ],
 "metadata": {
  "kernelspec": {
   "display_name": "Python 3 (ipykernel)",
   "language": "python",
   "name": "python3"
  },
  "language_info": {
   "codemirror_mode": {
    "name": "ipython",
    "version": 3
   },
   "file_extension": ".py",
   "mimetype": "text/x-python",
   "name": "python",
   "nbconvert_exporter": "python",
   "pygments_lexer": "ipython3",
   "version": "3.9.7"
  }
 },
 "nbformat": 4,
 "nbformat_minor": 5
}
